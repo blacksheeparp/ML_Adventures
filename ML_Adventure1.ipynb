{
 "cells": [
  {
   "cell_type": "code",
   "execution_count": null,
   "metadata": {
    "collapsed": true
   },
   "outputs": [],
   "source": [
    "import numpy as np\n",
    "import matplotlib.pyplot as plt\n",
    "\n",
    "f = open('ex1data1.txt', 'r')\n",
    "X = []\n",
    "Y = []\n",
    "\n",
    "for line in f:\n",
    "    x,y = tuple(line.split(','))\n",
    "    X.append(float(x))\n",
    "    Y.append(float(y))\n",
    "\n",
    "plt.plot(X,Y, 'x', color = 'r')\n",
    "plt.show()"
   ]
  }
 ],
 "metadata": {
  "kernelspec": {
   "display_name": "Python 3",
   "language": "python",
   "name": "python3"
  },
  "language_info": {
   "codemirror_mode": {
    "name": "ipython",
    "version": 3
   },
   "file_extension": ".py",
   "mimetype": "text/x-python",
   "name": "python",
   "nbconvert_exporter": "python",
   "pygments_lexer": "ipython3",
   "version": "3.6.0"
  }
 },
 "nbformat": 4,
 "nbformat_minor": 2
}
